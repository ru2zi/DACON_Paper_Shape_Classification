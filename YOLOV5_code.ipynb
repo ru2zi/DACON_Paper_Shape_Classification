{
  "nbformat": 4,
  "nbformat_minor": 0,
  "metadata": {
    "colab": {
      "private_outputs": true,
      "provenance": [],
      "authorship_tag": "ABX9TyN1py37vP0xkyMD2ELwPuNP",
      "include_colab_link": true
    },
    "kernelspec": {
      "name": "python3",
      "display_name": "Python 3"
    },
    "language_info": {
      "name": "python"
    }
  },
  "cells": [
    {
      "cell_type": "markdown",
      "metadata": {
        "id": "view-in-github",
        "colab_type": "text"
      },
      "source": [
        "<a href=\"https://colab.research.google.com/github/ru2zi/DACON_Paper_Shape_Classification/blob/main/YOLOV5_code.ipynb\" target=\"_parent\"><img src=\"https://colab.research.google.com/assets/colab-badge.svg\" alt=\"Open In Colab\"/></a>"
      ]
    },
    {
      "cell_type": "code",
      "execution_count": null,
      "metadata": {
        "id": "KPeJREcWjN6O"
      },
      "outputs": [],
      "source": [
        "#구분된 파일에 있는이미지 끌어오기\n",
        "import os, shutil\n",
        "\n",
        "for dirpath, dirname, filename in os.walk('/content/drive/MyDrive/yolov4_2/darknet/build/darknet/x64/data/FRONT'):\n",
        "    for d in filename:\n",
        "        if 'txt' in d:\n",
        "            dir_to_move = os.path.join(dirpath, d)\n",
        "            shutil.move(dir_to_move, '/content/drive/MyDrive/AU_BMW/trash')"
      ]
    },
    {
      "cell_type": "code",
      "source": [
        "from glob import glob\n",
        "\n",
        "front_img_list = glob('/content/drive/MyDrive/yolov4_2/darknet/build/darknet/x64/data/FRONT/*.jpg')\n",
        "\n",
        "len(front_img_list)"
      ],
      "metadata": {
        "id": "osog0dI_jTXV"
      },
      "execution_count": null,
      "outputs": []
    },
    {
      "cell_type": "code",
      "source": [
        "from sklearn.model_selection import train_test_split\n",
        "\n",
        "front_train_img_list, front_val_img_list = train_test_split(front_img_list, test_size=0.2, random_state=42) # random_state는 임의로 선택\n",
        "\n",
        "print(len(front_train_img_list), len(front_val_img_list))"
      ],
      "metadata": {
        "id": "zyRkb_5XjXWu"
      },
      "execution_count": null,
      "outputs": []
    },
    {
      "cell_type": "code",
      "source": [
        "with open('front_train.txt','w',encoding='UTF-8') as f:\n",
        "    for name in front_train_img_list:\n",
        "        f.write(name+'\\n')"
      ],
      "metadata": {
        "id": "B2vWXN4IjcjZ"
      },
      "execution_count": null,
      "outputs": []
    },
    {
      "cell_type": "markdown",
      "source": [
        "---"
      ],
      "metadata": {
        "id": "CKg60q11jhWS"
      }
    },
    {
      "cell_type": "code",
      "source": [
        "%cd /content/drive/MyDrive/yolov4_2/darknet"
      ],
      "metadata": {
        "id": "9PR4kvELjiuN"
      },
      "execution_count": null,
      "outputs": []
    },
    {
      "cell_type": "code",
      "source": [
        "!sed -i 's/OPENCV=0/OPENCV=1/' Makefile\n",
        "!sed -i 's/GPU=0/GPU=1/' Makefile\n",
        "!sed -i 's/CUDNN=0/CUDNN=1/' Makefile\n",
        "!sed -i 's/CUDNN_HALF=0/CUDNN_HALF=1/' Makefile\n",
        "!make"
      ],
      "metadata": {
        "id": "TfSqUsx8jkMV"
      },
      "execution_count": null,
      "outputs": []
    },
    {
      "cell_type": "code",
      "source": [
        "!./darknet detector train /content/drive/MyDrive/yolov4_2/darknet/build/darknet/x64/data/car.data /content/drive/MyDrive/yolov4_2/darknet/cfg/yolov4-car.cfg -dont_show"
      ],
      "metadata": {
        "id": "bfJdB2XAjmKr"
      },
      "execution_count": null,
      "outputs": []
    },
    {
      "cell_type": "code",
      "source": [
        "!./darknet detector test /content/drive/MyDrive/yolov4_2/darknet/build/darknet/x64/data/car.data /content/drive/MyDrive/yolov4_2/darknet/cfg/yolov4-car.cfg /content/drive/MyDrive/yolov4_2/backup/yolov4-car_final.weights  /content/drive/MyDrive/yolov4_2/darknet/build/darknet/x64/data/FRONT/C_211208_AU_007_20_WH_B_T_03_008.jpg"
      ],
      "metadata": {
        "id": "u5X7RfPxjoDJ"
      },
      "execution_count": null,
      "outputs": []
    },
    {
      "cell_type": "code",
      "source": [
        "!chmod +x ./darknet"
      ],
      "metadata": {
        "id": "N9qP_84ljy7B"
      },
      "execution_count": null,
      "outputs": []
    }
  ]
}