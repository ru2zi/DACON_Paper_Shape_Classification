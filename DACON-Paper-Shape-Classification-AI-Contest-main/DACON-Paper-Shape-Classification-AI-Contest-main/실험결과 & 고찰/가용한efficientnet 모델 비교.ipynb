{
 "cells": [
  {
   "cell_type": "raw",
   "metadata": {},
   "source": [
    "---\n",
    "title: \"가용한 efficientnet 모델 비교\"\n",
    "format: html\n",
    "date: 2023-04-16\n",
    "---"
   ]
  },
  {
   "attachments": {},
   "cell_type": "markdown",
   "metadata": {},
   "source": [
    "# <span style = \"color:black\"> **요약**\n",
    "- eifficientnet-b3 쓰자"
   ]
  },
  {
   "attachments": {},
   "cell_type": "markdown",
   "metadata": {},
   "source": [
    "# <span style = \"color:black\"> **실험목적**"
   ]
  },
  {
   "attachments": {},
   "cell_type": "markdown",
   "metadata": {},
   "source": [
    "- kaggle로 efficientnet은 어디까지 가능?\n",
    "- batchsize 작더라도 더 좋은 모델 vs batchsize는 크지만 더 좋지 않은 모델 (upper batch_size 32) ?"
   ]
  },
  {
   "attachments": {},
   "cell_type": "markdown",
   "metadata": {},
   "source": [
    "# <span style = \"color:black\"> **실험결과 & 고찰**"
   ]
  },
  {
   "attachments": {},
   "cell_type": "markdown",
   "metadata": {},
   "source": [
    "|model|pretrained|batchsize|f1-score|comments|\n",
    "|---  |---       |---      |---     |---|\n",
    "|b0   |True      |64       |0.77    |x|\n",
    "|b0   |false     |64       |0.48    |too much time|\n",
    "|b0   |True      |128      |0.78    |x|\n",
    "|b3   |True      |32   |0.836     |best score|\n",
    "\n"
   ]
  },
  {
   "attachments": {},
   "cell_type": "markdown",
   "metadata": {},
   "source": [
    "- b4이상부터는 사용 불가능(batch_size=32 기준)\n",
    "- **b3가 가장 성능이 가장 좋음.**\n",
    "- batchsize=32 b3 $>>>$ batchsize=128 b0 $\\approx$ batchsize=32 b0\n",
    "- 좋은 아키텍쳐를 쓰는게 1순위.\n",
    "- 배치사이즈는 별로 영향이 없다.\n",
    "- pretrained는 반드시 사용해야 한다. (안쓰면 학습이 정말 느리다.)\n",
    "- b3의 경우도 끝까지 학습시켰을때 loss = 0.00088로 정말 낮다. 따라서 b4,b5...을 안쓰더라도 충분해 보이긴 하지만 확실하지는 않다."
   ]
  }
 ],
 "metadata": {
  "kernelspec": {
   "display_name": "base",
   "language": "python",
   "name": "python3"
  },
  "language_info": {
   "codemirror_mode": {
    "name": "ipython",
    "version": 3
   },
   "file_extension": ".py",
   "mimetype": "text/x-python",
   "name": "python",
   "nbconvert_exporter": "python",
   "pygments_lexer": "ipython3",
   "version": "3.9.13"
  },
  "orig_nbformat": 4
 },
 "nbformat": 4,
 "nbformat_minor": 2
}
