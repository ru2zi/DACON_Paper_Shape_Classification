{
 "cells": [
  {
   "cell_type": "raw",
   "metadata": {},
   "source": [
    "---\n",
    "title: \"가용한 efficientnet 모델 비교\"\n",
    "format: html\n",
    "date: 2023-04-16\n",
    "---"
   ]
  },
  {
   "cell_type": "markdown",
   "metadata": {},
   "source": [
    "# <span style = \"color:black\"> **실험목적**"
   ]
  },
  {
   "attachments": {},
   "cell_type": "markdown",
   "metadata": {},
   "source": [
    "- Centorcrop하면 좋은가? $\\rightarrow$ 일반적으로 하는것이 좋다고 알려져 있지만 직접해봄\n",
    "- Centorcrop전에 적절한 Resize는 ?\n",
    "    - Centorcrop은 반드시 (300,300)으로 해야함 (efficientnet-b3의 inputsize가 (300,300)이기 때문)\n",
    "    - 그러면 그 전에 이미지들을 적절히 Resizing해서 하나의 통일된 사이즈로 만들어 놔야함(300,300보다 큰 이미지는 Resizing을 안해도 오류가 없지만 300,300보다 작은 이미지는 오류가 생김)\n",
    "    - 어떤 Resize가 그렇다면 가장 적절한가?(큰이미지 + 작은이미지가 다 있는 dataset에서 어떤게 가장 좋냐?)"
   ]
  },
  {
   "cell_type": "markdown",
   "metadata": {},
   "source": [
    "# <span style = \"color:black\"> **실험결과 & 고찰**"
   ]
  },
  {
   "attachments": {},
   "cell_type": "markdown",
   "metadata": {},
   "source": [
    "|model|Resize|Centorcrop|f1-score|comments|\n",
    "|---  |---       |---      |---     |---|\n",
    "|b3|300      |None       |0.836    |baseline model|\n",
    "|b3|350      |300       |0.83421    |x|\n",
    "|b3   |400     |300       |0.847    |high score|\n",
    "|b3|450      |300       |0.827    |x|\n",
    "|b3   |500      |300      |0.813    |x|\n",
    "|b3   |600      |300   |0.785     |x|"
   ]
  },
  {
   "attachments": {},
   "cell_type": "markdown",
   "metadata": {},
   "source": [
    "- **Resize=400,Centorcrop=300로 해야 성능이 제일 좋음.**\n",
    "- 왜 그럴까?\n",
    "    - Resize를 크게 하면 원래 크기가 크던 이미지는 정보의 손실이 적고 원래 작은 이미지는 보간으로 인한 오차카 큼.(억지로 키워서 해상도가 낮음.)\n",
    "    - Resize를 작게하면 원래 크기가 크던 이미지는 정보를 손실이 크고 원래 작은 이미지는 보간으로 인한 오차가 비교적 작음\n",
    "- 상기의 이유로 적절한 Resize크기를 잡는것이 필요한데 여기서는 400정도가 적당함을 경험적으로 도출.(이는 데이터마다 다를것으로 보임.)"
   ]
  }
 ],
 "metadata": {
  "language_info": {
   "name": "python"
  },
  "orig_nbformat": 4
 },
 "nbformat": 4,
 "nbformat_minor": 2
}
