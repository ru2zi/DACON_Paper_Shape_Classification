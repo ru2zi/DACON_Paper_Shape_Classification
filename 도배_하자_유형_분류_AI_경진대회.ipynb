{
  "nbformat": 4,
  "nbformat_minor": 0,
  "metadata": {
    "colab": {
      "private_outputs": true,
      "provenance": [],
      "toc_visible": true,
      "mount_file_id": "1BypsN1Wmn7IL8UnWMtg7U44zzkOFLISA",
      "authorship_tag": "ABX9TyPdbVa6iQOq2z/XQhFXpoGe",
      "include_colab_link": true
    },
    "kernelspec": {
      "name": "python3",
      "display_name": "Python 3"
    },
    "language_info": {
      "name": "python"
    }
  },
  "cells": [
    {
      "cell_type": "markdown",
      "metadata": {
        "id": "view-in-github",
        "colab_type": "text"
      },
      "source": [
        "<a href=\"https://colab.research.google.com/github/ru2zi/DACON_Paper_Shape_Classification/blob/main/%EB%8F%84%EB%B0%B0_%ED%95%98%EC%9E%90_%EC%9C%A0%ED%98%95_%EB%B6%84%EB%A5%98_AI_%EA%B2%BD%EC%A7%84%EB%8C%80%ED%9A%8C.ipynb\" target=\"_parent\"><img src=\"https://colab.research.google.com/assets/colab-badge.svg\" alt=\"Open In Colab\"/></a>"
      ]
    },
    {
      "cell_type": "code",
      "execution_count": null,
      "metadata": {
        "id": "oQS-LyPurvqz"
      },
      "outputs": [],
      "source": [
        "import random\n",
        "import pandas as pd\n",
        "import numpy as np\n",
        "import os\n",
        "import re\n",
        "import glob\n",
        "import cv2\n",
        "\n",
        "import torch\n",
        "import torch.nn as nn\n",
        "import torch.optim as optim\n",
        "import torch.nn.functional as F\n",
        "from torch.utils.data import Dataset, DataLoader, WeightedRandomSampler\n",
        "\n",
        "import albumentations as A\n",
        "from albumentations.pytorch.transforms import ToTensorV2\n",
        "import torchvision.models as models\n",
        "\n",
        "from sklearn.model_selection import train_test_split\n",
        "from sklearn import preprocessing\n",
        "from sklearn.metrics import f1_score\n",
        "from sklearn.metrics import classification_report\n",
        "from tqdm.auto import tqdm\n",
        "\n",
        "import warnings\n",
        "warnings.filterwarnings(action='ignore')"
      ]
    },
    {
      "cell_type": "code",
      "source": [
        "import os.path\n",
        "import cv2\n",
        "import numpy as np\n",
        "import pandas as pd\n",
        "import matplotlib.pyplot as plt\n",
        "import tensorflow as tf\n",
        "import seaborn as sns\n",
        "import glob\n",
        "from pathlib import Path\n",
        "from tqdm import tqdm\n",
        "from time import perf_counter\n",
        "import os\n",
        "import json\n",
        "import shutil\n",
        "\n",
        "from PIL import Image\n",
        "from sklearn.model_selection import train_test_split\n",
        "from sklearn.metrics import classification_report,accuracy_score\n",
        "from IPython.display import Markdown, display"
      ],
      "metadata": {
        "id": "0mQUHNDkAbaj"
      },
      "execution_count": null,
      "outputs": []
    },
    {
      "cell_type": "code",
      "source": [
        "CFG = {\n",
        "    'IMG_SIZE':224,\n",
        "    'EPOCHS':10,\n",
        "    'LEARNING_RATE':3e-4,\n",
        "    'BATCH_SIZE':32,\n",
        "    'SEED':41\n",
        "}"
      ],
      "metadata": {
        "id": "ddcTouUor1xo"
      },
      "execution_count": null,
      "outputs": []
    },
    {
      "cell_type": "code",
      "source": [
        "def seed_everything(seed):\n",
        "    random.seed(seed)\n",
        "    os.environ['PYTHONHASHSEED'] = str(seed)\n",
        "    np.random.seed(seed)\n",
        "    torch.manual_seed(seed)\n",
        "    torch.cuda.manual_seed(seed)\n",
        "    torch.backends.cudnn.deterministic = True\n",
        "    torch.backends.cudnn.benchmark = True\n",
        "\n",
        "seed_everything(CFG['SEED']) # Seed 고정"
      ],
      "metadata": {
        "id": "L9ij6jfxr4w7"
      },
      "execution_count": null,
      "outputs": []
    },
    {
      "cell_type": "code",
      "source": [
        "all_img_list = [p for p in glob.glob('/content/drive/MyDrive/Dacon/train/**/*.png', recursive=True)if os.path.isfile(p)]"
      ],
      "metadata": {
        "id": "WN4cJvwltCTi"
      },
      "execution_count": null,
      "outputs": []
    },
    {
      "cell_type": "code",
      "source": [
        "df = pd.DataFrame(columns=['img_path', 'label'])\n",
        "df['img_path'] = all_img_list"
      ],
      "metadata": {
        "id": "MZ_Orl7-tYpa"
      },
      "execution_count": null,
      "outputs": []
    },
    {
      "cell_type": "code",
      "source": [
        "df['label'] = df['img_path'].apply(lambda x: os.path.basename(os.path.dirname(x)))"
      ],
      "metadata": {
        "id": "EDpgms65uioQ"
      },
      "execution_count": null,
      "outputs": []
    },
    {
      "cell_type": "code",
      "source": [
        "df"
      ],
      "metadata": {
        "id": "7N9TXiVOHUYv"
      },
      "execution_count": null,
      "outputs": []
    },
    {
      "cell_type": "code",
      "source": [
        "train, val, _, _ = train_test_split(df, df['label'], test_size=0.3, stratify=df['label'], random_state=CFG['SEED'])"
      ],
      "metadata": {
        "id": "op33QBWjsEL_"
      },
      "execution_count": null,
      "outputs": []
    },
    {
      "cell_type": "code",
      "source": [
        "train.reset_index(drop=True, inplace=True)"
      ],
      "metadata": {
        "id": "Ni7i74c47qu-"
      },
      "execution_count": null,
      "outputs": []
    },
    {
      "cell_type": "code",
      "source": [
        "val.reset_index(drop=True, inplace=True)"
      ],
      "metadata": {
        "id": "JwQn11ti7sz0"
      },
      "execution_count": null,
      "outputs": []
    },
    {
      "cell_type": "code",
      "source": [
        "import os\n",
        "\n",
        "# 탐색할 폴더 경로\n",
        "folder_path = '/content/drive/MyDrive/Dacon/train'\n",
        "\n",
        "# 폴더 내의 모든 하위 폴더 탐색\n",
        "for root, dirs, files in os.walk(folder_path):\n",
        "    # 각 폴더 내의 이미지 개수 출력\n",
        "    if len(files) > 0:\n",
        "        print(f\"{root}: {len(files)}\")\n"
      ],
      "metadata": {
        "id": "wHf-QB2V55ci"
      },
      "execution_count": null,
      "outputs": []
    },
    {
      "cell_type": "code",
      "source": [
        "train['img_path'][8]"
      ],
      "metadata": {
        "id": "R_BUZ6Wn8_oi"
      },
      "execution_count": null,
      "outputs": []
    },
    {
      "cell_type": "code",
      "source": [
        "image_pil = Image.open(train['img_path'][810])\n",
        "image = np.array(image_pil)\n",
        "plt.imshow(image)\n",
        "plt.show()"
      ],
      "metadata": {
        "id": "3EZ2lZR4AQ6W"
      },
      "execution_count": null,
      "outputs": []
    },
    {
      "cell_type": "code",
      "source": [
        "from scipy.ndimage.filters import gaussian_filter\n",
        "\n",
        "# 이미지 불러오기\n",
        "img = Image.open(train['img_path'][810])\n",
        "\n",
        "# 가우시안 필터링 적용\n",
        "gaussian_img = gaussian_filter(img, sigma=2)\n",
        "\n",
        "# 이미지 출력\n",
        "plt.imshow(gaussian_img)\n",
        "plt.show()"
      ],
      "metadata": {
        "id": "CXfaG8PFBaLA"
      },
      "execution_count": null,
      "outputs": []
    },
    {
      "cell_type": "code",
      "source": [
        "gray = cv2.cvtColor(gaussian_img, cv2.COLOR_BGR2GRAY)\n",
        "\n",
        "plt.figure(figsize=(6, 6))\n",
        "plt.imshow(gray, cmap='gray')"
      ],
      "metadata": {
        "id": "8vHApGUwLa3Z"
      },
      "execution_count": null,
      "outputs": []
    },
    {
      "cell_type": "code",
      "source": [
        "pip install common_util\n"
      ],
      "metadata": {
        "id": "ukQ-c6bSa4Zc"
      },
      "execution_count": null,
      "outputs": []
    },
    {
      "cell_type": "code",
      "source": [
        "labelme_dict = common_util.load_json(\"/content/1399.json\")"
      ],
      "metadata": {
        "id": "v3kp6bdTaf69"
      },
      "execution_count": null,
      "outputs": []
    },
    {
      "cell_type": "code",
      "source": [
        "img_blurred = cv2.GaussianBlur(gray, ksize=(5, 5), sigmaX=0)\n",
        "\n",
        "img_thresh = cv2.adaptiveThreshold(\n",
        "    img_blurred,\n",
        "    maxValue=255.0,\n",
        "    adaptiveMethod=cv2.ADAPTIVE_THRESH_GAUSSIAN_C,\n",
        "    thresholdType=cv2.THRESH_BINARY_INV,\n",
        "    blockSize=19,\n",
        "    C=9\n",
        ")\n",
        "\n",
        "plt.figure(figsize=(6, 6))\n",
        "plt.imshow(img_thresh, cmap='gray')"
      ],
      "metadata": {
        "id": "p7MULQPZKj9j"
      },
      "execution_count": null,
      "outputs": []
    },
    {
      "cell_type": "code",
      "source": [
        "height, width, channel = image.shape"
      ],
      "metadata": {
        "id": "RGIXKnV8MHf3"
      },
      "execution_count": null,
      "outputs": []
    },
    {
      "cell_type": "code",
      "source": [
        "contours, hierarchy = cv2.findContours(\n",
        "    img_thresh,\n",
        "    mode=cv2.RETR_LIST,\n",
        "    method=cv2.CHAIN_APPROX_SIMPLE\n",
        ")\n",
        "\n",
        "temp_result = np.zeros((height, width, channel), dtype=np.uint8)\n",
        "\n",
        "cv2.drawContours(temp_result, contours=contours, contourIdx=-1, color=(255, 255, 255))\n",
        "\n",
        "plt.figure(figsize=(6, 6))\n",
        "plt.imshow(temp_result)\n"
      ],
      "metadata": {
        "id": "8FlVUesgMBdB"
      },
      "execution_count": null,
      "outputs": []
    },
    {
      "cell_type": "code",
      "source": [],
      "metadata": {
        "id": "ImvNfhfWMBna"
      },
      "execution_count": null,
      "outputs": []
    },
    {
      "cell_type": "markdown",
      "source": [
        "---"
      ],
      "metadata": {
        "id": "0C21u8qXViMI"
      }
    },
    {
      "cell_type": "code",
      "source": [
        "# 이미지 불러오기\n",
        "img = cv2.imread(train['img_path'][810], cv2.IMREAD_GRAYSCALE)\n",
        "\n",
        "# 캐니 엣지 검출 적용\n",
        "edges = cv2.Canny(img, 100, 250)\n",
        "\n",
        "# 이미지 출력\n",
        "plt.imshow(edges, cmap='gray')\n",
        "plt.show()\n"
      ],
      "metadata": {
        "id": "bIEIBNOiCANx"
      },
      "execution_count": null,
      "outputs": []
    },
    {
      "cell_type": "code",
      "source": [
        "from scipy.ndimage import gaussian_laplace"
      ],
      "metadata": {
        "id": "-ZsSgJDUFbBK"
      },
      "execution_count": null,
      "outputs": []
    },
    {
      "cell_type": "code",
      "source": [
        "# 이미지 불러오기\n",
        "img = cv2.imread(train['img_path'][80], cv2.IMREAD_GRAYSCALE)\n",
        "\n",
        "# 고주파 필터링 적용\n",
        "kernel_size = 1\n",
        "kernel = np.ones((kernel_size,kernel_size),np.float32)/(kernel_size**2)\n",
        "filtered = cv2.filter2D(img,-1,kernel)\n",
        "\n",
        "# 캐니 엣지 검출 적용\n",
        "edges = cv2.Canny(filtered, 100, 250)\n",
        "\n",
        "# 경계선 길이 측정\n",
        "contours, hierarchy = cv2.findContours(edges, cv2.RETR_EXTERNAL, cv2.CHAIN_APPROX_NONE)\n",
        "\n",
        "# 경계선 길이가 일정 값 이상인 부분만 추출\n",
        "threshold = 50 # 일정 값\n",
        "edges_filtered = np.zeros_like(edges)\n",
        "for i in range(len(contours)):\n",
        "    if cv2.arcLength(contours[i], True) > threshold:\n",
        "        cv2.drawContours(edges_filtered, contours, i, 255, 1)\n",
        "\n",
        "# 이미지 출력\n",
        "plt.imshow(edges_filtered, cmap='gray')\n",
        "plt.show()"
      ],
      "metadata": {
        "id": "VhpaysUSDZ0x"
      },
      "execution_count": null,
      "outputs": []
    },
    {
      "cell_type": "code",
      "source": [
        "import torch\n",
        "\n",
        "def preprocess_image(img_path):\n",
        "    img_path = str(img_path) # img_path를 문자열로 변환\n",
        "    # 이미지 불러오기\n",
        "    img = cv2.imread(img_path, cv2.IMREAD_GRAYSCALE)\n",
        "\n",
        "    if img is None:\n",
        "        raise ValueError(\"이미지를 불러올 수 없습니다.\")\n",
        "\n",
        "    # 고주파 필터링 적용\n",
        "    kernel_size = 2\n",
        "    kernel = np.ones((kernel_size,kernel_size),np.float32)/(kernel_size**2)\n",
        "    filtered = cv2.filter2D(img,-1,kernel)\n",
        "\n",
        "    # 캐니 엣지 검출 적용\n",
        "    edges = cv2.Canny(filtered, 100, 250)\n",
        "\n",
        "    # 경계선 길이 측정\n",
        "    contours, hierarchy = cv2.findContours(edges, cv2.RETR_EXTERNAL, cv2.CHAIN_APPROX_NONE)\n",
        "\n",
        "    # 직선 제거\n",
        "    lines = cv2.HoughLinesP(edges, rho=1, theta=np.pi/180, threshold=100, minLineLength=100, maxLineGap=10)\n",
        "    if lines is not None:\n",
        "        for line in lines:\n",
        "            x1, y1, x2, y2 = line[0]\n",
        "            cv2.line(edges, (x1, y1), (x2, y2), (0, 0, 0), 3)\n",
        "\n",
        "    # 경계선 길이가 일정 값 이상인 부분만 추출\n",
        "    threshold = 50 # 일정 값\n",
        "    edges_filtered = np.zeros_like(edges)\n",
        "    for i in range(len(contours)):\n",
        "        if cv2.arcLength(contours[i], True) > threshold:\n",
        "            cv2.drawContours(edges_filtered, contours, i, 255, 1)\n",
        "\n",
        "    # CUDA Tensor를 CPU로 이동 후 NumPy 배열로 변환\n",
        "    edges_filtered = torch.from_numpy(edges_filtered).cpu().numpy()\n",
        "\n",
        "    return edges_filtered\n"
      ],
      "metadata": {
        "id": "Do68MxgRJSgZ"
      },
      "execution_count": null,
      "outputs": []
    },
    {
      "cell_type": "code",
      "source": [
        "img_path = train['img_path'][85]\n",
        "preprocessed_img = preprocess_image(img_path)\n",
        "# 패턴인식 알고리즘 등을 적용하여 하자 부분을 찾는 작업 수행\n",
        "plt.imshow(preprocessed_img, cmap='gray')\n",
        "plt.show()"
      ],
      "metadata": {
        "id": "ThIqnqb1JUBm"
      },
      "execution_count": null,
      "outputs": []
    },
    {
      "cell_type": "code",
      "source": [
        "train['img_path'][5]"
      ],
      "metadata": {
        "id": "1KfcwP4VMDLQ"
      },
      "execution_count": null,
      "outputs": []
    },
    {
      "cell_type": "markdown",
      "source": [
        "---"
      ],
      "metadata": {
        "id": "9RPHNiPtlxrQ"
      }
    },
    {
      "cell_type": "markdown",
      "source": [
        "### 전처리 이미지 정리"
      ],
      "metadata": {
        "id": "sBkcVNEPVuHE"
      }
    },
    {
      "cell_type": "code",
      "source": [
        "# 새로운 폴더 생성\n",
        "import os\n",
        "os.makedirs('/content/drive/MyDrive/Dacon/preprocessed_train', exist_ok=True)"
      ],
      "metadata": {
        "id": "DdWAJVbziXiv"
      },
      "execution_count": null,
      "outputs": []
    },
    {
      "cell_type": "code",
      "source": [
        "src = '/content/drive/MyDrive/Dacon/train'\n",
        "dst = '/content/drive/MyDrive/Dacon/preprocessed_train'\n",
        "\n",
        "for foldername in os.listdir(src):\n",
        "    folder_path = os.path.join(src, foldername)\n",
        "    if os.path.isdir(folder_path):\n",
        "        shutil.copytree(folder_path, os.path.join(dst, foldername), dirs_exist_ok=True)"
      ],
      "metadata": {
        "id": "9WFT5p_TiT9j"
      },
      "execution_count": null,
      "outputs": []
    },
    {
      "cell_type": "code",
      "source": [
        "def remove_png_files(folder_path):\n",
        "    for root, dirs, files in os.walk(folder_path):\n",
        "        for file in files:\n",
        "            if file.endswith(\".png\"):\n",
        "                os.remove(os.path.join(root, file))\n",
        "remove_png_files(dst)"
      ],
      "metadata": {
        "id": "_ujQDNxolTor"
      },
      "execution_count": null,
      "outputs": []
    },
    {
      "cell_type": "markdown",
      "source": [
        "---"
      ],
      "metadata": {
        "id": "AStXFzd3lt_H"
      }
    },
    {
      "cell_type": "code",
      "source": [
        "# 파일 경로 지정\n",
        "file_path = \"/content/drive/MyDrive/Dacon/preprocessed_train\"\n",
        "\n",
        "# 파일 삭제\n",
        "shutil.rmtree(file_path)"
      ],
      "metadata": {
        "id": "nG1kHrWCjC7l"
      },
      "execution_count": null,
      "outputs": []
    },
    {
      "cell_type": "code",
      "source": [
        "# train 데이터 프레임에서 이미지 경로와 라벨을 가져와 전처리 후 preprocessed_train 폴더에 저장\n",
        "for idx, row in train.iterrows():\n",
        "    # 이미지 경로\n",
        "    img_path = row['img_path']\n",
        "    # 하자 유형\n",
        "    label = row['label']\n",
        "\n",
        "    # 전처리 수행\n",
        "    img = preprocess_image(img_path)\n",
        "\n",
        "    # 폴더 생성\n",
        "    folder_name = f\"/content/drive/MyDrive/Dacon/Preprocessed_train/{label}\"\n",
        "    if not os.path.exists(folder_name):\n",
        "        os.makedirs(folder_name)\n",
        "\n",
        "    # 이미지 저장\n",
        "    filename = os.path.basename(img_path)\n",
        "    cv2.imwrite(f\"{folder_name}/{filename}\", img)"
      ],
      "metadata": {
        "id": "x62AvMwEtxJu"
      },
      "execution_count": null,
      "outputs": []
    },
    {
      "cell_type": "code",
      "source": [
        "pre_img_list = [p for p in glob.glob('/content/drive/MyDrive/Dacon/Preprocessed_train/**/*.png', recursive=True)if os.path.isfile(p)]"
      ],
      "metadata": {
        "id": "ey-Tf1cecHdD"
      },
      "execution_count": null,
      "outputs": []
    },
    {
      "cell_type": "code",
      "source": [
        "pre_img_train = pd.DataFrame(columns=['img_path', 'label'])\n",
        "pre_img_train['img_path'] = pre_img_list\n",
        "pre_img_train['label'] = pre_img_train['img_path'].apply(lambda x: os.path.basename(os.path.dirname(x)))"
      ],
      "metadata": {
        "id": "Ll4kfByTva-G"
      },
      "execution_count": null,
      "outputs": []
    },
    {
      "cell_type": "code",
      "source": [
        "pre_img_train"
      ],
      "metadata": {
        "id": "jbzKaQNKveTG"
      },
      "execution_count": null,
      "outputs": []
    },
    {
      "cell_type": "markdown",
      "source": [
        "## Label-Encoding"
      ],
      "metadata": {
        "id": "YcNe9YTKsGn3"
      }
    },
    {
      "cell_type": "code",
      "source": [
        "le = preprocessing.LabelEncoder()\n",
        "pre_img_train['label'] = le.fit_transform(pre_img_train['label'])\n",
        "val['label'] = le.transform(val['label'])"
      ],
      "metadata": {
        "id": "21kBJS1UsFUr"
      },
      "execution_count": null,
      "outputs": []
    },
    {
      "cell_type": "code",
      "source": [
        "pre_img_train"
      ],
      "metadata": {
        "id": "h3z5thtz_kvu"
      },
      "execution_count": null,
      "outputs": []
    },
    {
      "cell_type": "markdown",
      "source": [
        "## CustomDataset"
      ],
      "metadata": {
        "id": "TfsT37j6sKYM"
      }
    },
    {
      "cell_type": "code",
      "source": [
        "class CustomDataset(Dataset):\n",
        "    def __init__(self, img_path_list, label_list, transforms=None):\n",
        "        self.img_path_list = img_path_list\n",
        "        self.label_list = label_list\n",
        "        self.transforms = transforms\n",
        "\n",
        "    def __getitem__(self, index):\n",
        "        img_path = self.img_path_list[index]\n",
        "\n",
        "        image = cv2.imread(img_path)\n",
        "\n",
        "        if self.transforms is not None:\n",
        "            image = self.transforms(image=image)['image']\n",
        "\n",
        "        if self.label_list is not None:\n",
        "            label = self.label_list[index]\n",
        "            return image, label\n",
        "        else:\n",
        "            return image\n",
        "\n",
        "    def __len__(self):\n",
        "        return len(self.img_path_list)"
      ],
      "metadata": {
        "id": "D9bvO4p7sJJF"
      },
      "execution_count": null,
      "outputs": []
    },
    {
      "cell_type": "code",
      "source": [
        "train_transform = A.Compose([ A.Resize(CFG['IMG_SIZE'],CFG['IMG_SIZE']),\n",
        "                            A.HorizontalFlip(p=0.5),\n",
        "                            A.Normalize(mean=(0.485, 0.456, 0.406), std=(0.229, 0.224, 0.225), max_pixel_value=255.0, always_apply=False, p=1.0),\n",
        "                            ToTensorV2()\n",
        "                            ])\n",
        "\n",
        "test_transform = A.Compose([ A.Resize(CFG['IMG_SIZE'],CFG['IMG_SIZE']),\n",
        "                            A.Normalize(mean=(0.485, 0.456, 0.406), std=(0.229, 0.224, 0.225), max_pixel_value=255.0, always_apply=False, p=1.0),\n",
        "                            ToTensorV2()\n",
        "                            ])\n"
      ],
      "metadata": {
        "id": "Rign8wBMsMzc"
      },
      "execution_count": null,
      "outputs": []
    },
    {
      "cell_type": "code",
      "source": [
        "pre_train_dataset = CustomDataset(pre_img_train['img_path'].values, pre_img_train['label'].values, train_transform)\n",
        "train_loader = DataLoader(pre_train_dataset, batch_size = CFG['BATCH_SIZE'], shuffle=False, num_workers=0)\n",
        "\n",
        "val_dataset = CustomDataset(val['img_path'].values, val['label'].values, test_transform)\n",
        "val_loader = DataLoader(val_dataset, batch_size=CFG['BATCH_SIZE'], shuffle=False, num_workers=0)"
      ],
      "metadata": {
        "id": "YxCq_dx2sOP_"
      },
      "execution_count": null,
      "outputs": []
    },
    {
      "cell_type": "code",
      "source": [],
      "metadata": {
        "id": "gBtjZTn-hNEh"
      },
      "execution_count": null,
      "outputs": []
    },
    {
      "cell_type": "markdown",
      "source": [
        "### ImageDataGenerator이용 이미지 전처리"
      ],
      "metadata": {
        "id": "10WCPpsMnokG"
      }
    },
    {
      "cell_type": "code",
      "source": [
        "import os\n",
        "\n",
        "def get_subfolder_names(path):\n",
        "    subfolder_names = [name for name in os.listdir(path) if os.path.isdir(os.path.join(path, name))]\n",
        "    return subfolder_names"
      ],
      "metadata": {
        "id": "yuqtkrAgphv7"
      },
      "execution_count": null,
      "outputs": []
    },
    {
      "cell_type": "code",
      "source": [
        "get_subfolder_names('/content/drive/MyDrive/Dacon/train')"
      ],
      "metadata": {
        "id": "PR7JXkZ6pk2o"
      },
      "execution_count": null,
      "outputs": []
    },
    {
      "cell_type": "code",
      "source": [
        "augmentation_factor = 5\n",
        "batch_size = 32"
      ],
      "metadata": {
        "id": "q8OAnyVZrHTG"
      },
      "execution_count": null,
      "outputs": []
    },
    {
      "cell_type": "code",
      "source": [
        "import os\n",
        "from keras.preprocessing.image import ImageDataGenerator\n",
        "\n",
        "datagen = ImageDataGenerator(rescale=1./255,\n",
        "                             rotation_range=15,\n",
        "                             width_shift_range=0.1,\n",
        "                             height_shift_range=0.1,\n",
        "                             shear_range=0.5,\n",
        "                             zoom_range=[0.8, 2.0],\n",
        "                             horizontal_flip=True,\n",
        "                             vertical_flip=True,\n",
        "                             fill_mode='nearest')\n",
        "\n",
        "train_dir = '/content/drive/MyDrive/Dacon/train'\n",
        "folders = os.listdir(train_dir)\n",
        "\n",
        "for folder in folders:\n",
        "    print(f\"Data augmentation for {folder}\")\n",
        "    folder_path = os.path.join(train_dir, folder)\n",
        "    if os.path.isdir(folder_path):\n",
        "        save_dir = os.path.join(train_dir, folder + '_augmented')\n",
        "        if not os.path.exists(save_dir):\n",
        "            os.makedirs(save_dir)\n",
        "\n",
        "        train_gen = datagen.flow_from_directory(folder_path,\n",
        "                                                 batch_size=32,\n",
        "                                                 save_to_dir=save_dir,\n",
        "                                                 save_prefix=folder + '_',\n",
        "                                                 target_size=(224, 224))\n",
        "\n",
        "        total_images = sum([len(files) for r, d, files in os.walk(folder_path)])\n",
        "        steps_per_epoch = (total_images * augmentation_factor) // batch_size\n",
        "\n",
        "        model.fit(train_gen,\n",
        "                  steps_per_epoch=steps_per_epoch,\n",
        "                  epochs=10)"
      ],
      "metadata": {
        "id": "3_5zkPMSolxW"
      },
      "execution_count": null,
      "outputs": []
    },
    {
      "cell_type": "code",
      "source": [
        "from tensorflow.keras.preprocessing.image import ImageDataGenerator\n",
        "import matplotlib.pyplot as plt"
      ],
      "metadata": {
        "id": "6ByorBlVcvNL"
      },
      "execution_count": null,
      "outputs": []
    },
    {
      "cell_type": "code",
      "source": [
        "from keras.preprocessing.image import ImageDataGenerator\n",
        "\n",
        "train_datagen = ImageDataGenerator(rescale = 1./255)\n",
        "\n",
        "test_datagen = ImageDataGenerator(rescale = 1./255)\n",
        "\n",
        "training_set = train_datagen.flow_from_directory(train_dir,\n",
        "                                                 target_size = (224, 224),\n",
        "                                                 batch_size = 12,\n",
        "                                                 class_mode = 'binary')\n",
        "\n",
        "val_set = test_datagen.flow_from_directory(val_dir,\n",
        "                                            target_size = (224, 224),\n",
        "                                            batch_size = 12,\n",
        "                                            class_mode = 'binary')\n",
        "\n",
        "test_set = test_datagen.flow_from_directory(test_dir,\n",
        "                                            target_size = (224, 224),\n",
        "                                            batch_size = 12,\n",
        "                                            class_mode = 'binary')\n"
      ],
      "metadata": {
        "id": "puQ6LVnXcNi0"
      },
      "execution_count": null,
      "outputs": []
    },
    {
      "cell_type": "markdown",
      "source": [
        "- 데이터 셋의 개수 증강"
      ],
      "metadata": {
        "id": "XO8iAqb_nt1l"
      }
    },
    {
      "cell_type": "code",
      "source": [
        "# 데이터셋 불러오기\n",
        "train_gen = ImageDataGenerator(rescale=1./255,\n",
        "                               rotation_range=15,\n",
        "                               width_shift_range=0.1,\n",
        "                               height_shift_range=0.1,\n",
        "                               shear_range=0.5,\n",
        "                               zoom_range=[0.8, 2.0],\n",
        "                               horizontal_flip=True,\n",
        "                               vertical_flip=True,\n",
        "                               fill_mode='nearest')\n",
        "\n",
        "\n",
        "test_gen = ImageDataGenerator(rescale = 1/255)"
      ],
      "metadata": {
        "id": "xSSxK3oKcNl-"
      },
      "execution_count": null,
      "outputs": []
    },
    {
      "cell_type": "code",
      "source": [
        "file = ['defect_free', 'stain']"
      ],
      "metadata": {
        "id": "A6aNtdpxvlYj"
      },
      "execution_count": null,
      "outputs": []
    },
    {
      "cell_type": "code",
      "source": [
        "from tensorflow.keras.preprocessing import image"
      ],
      "metadata": {
        "id": "1VT8SrIE3aTz"
      },
      "execution_count": null,
      "outputs": []
    },
    {
      "cell_type": "code",
      "source": [
        "for i in file:\n",
        "#본인 컴퓨터 경로 입력\n",
        "    path='/content/drive/MyDrive/AI부트캠프/Section4/project/output/train/'+i+'/'\n",
        "    image_list = os.listdir(path)\n",
        "\n",
        "#저장할 컴퓨터 경로 입력\n",
        "    save_dir = '/content/drive/MyDrive/AI부트캠프/Section4/project/output/train/'+i+'/'\n",
        "\n",
        "augment_number=10  #number of augmented versions for each image\n",
        "for f in image_list:\n",
        "    image_filename = path+f\n",
        "    img = image.load_img(image_filename,target_size=(224,224))\n",
        "    img_arr = image.img_to_array(img)\n",
        "    img_arr = img_arr.reshape((1,) + img_arr.shape)\n",
        "\n",
        "\n",
        "    for x, val in zip(train_gen.flow(img_arr,       #input image\n",
        "            save_to_dir=save_dir,     #augmented images will be saved here\n",
        "            save_prefix= f,        # the augmented image name will have prefix 'aug'\n",
        "            save_format='jpg'),range(augment_number)) :\n",
        "        pass\n"
      ],
      "metadata": {
        "id": "BAunRJkxvrC2"
      },
      "execution_count": null,
      "outputs": []
    },
    {
      "cell_type": "code",
      "source": [
        "train_generator = train_gen.flow_from_directory(train_dir,\n",
        "                                                target_size = (224, 224),\n",
        "                                                batch_size = 20,\n",
        "                                                class_mode = 'binary',\n",
        "                                                shuffle = True)\n",
        "\n",
        "val_generator = test_gen.flow_from_directory(val_dir,\n",
        "                                            target_size = (224, 224),\n",
        "                                            batch_size = 8,\n",
        "                                            class_mode = 'binary',\n",
        "                                            shuffle = True)\n",
        "\n",
        "test_generator = test_gen.flow_from_directory(test_dir,\n",
        "                                            target_size = (224, 224),\n",
        "                                            batch_size = 8,\n",
        "                                            class_mode = 'binary',\n",
        "                                            shuffle = True)\n"
      ],
      "metadata": {
        "id": "p2-R-d-PJZAi"
      },
      "execution_count": null,
      "outputs": []
    },
    {
      "cell_type": "code",
      "source": [
        "training_set.class_indices"
      ],
      "metadata": {
        "id": "coiZJnaD1xbV"
      },
      "execution_count": null,
      "outputs": []
    },
    {
      "cell_type": "code",
      "source": [
        "#step수로 가중치를 얼만큼 업데이트 할 것인지\n",
        "len(train_generator), len(val_generator)"
      ],
      "metadata": {
        "id": "cZsBgFPj13-M"
      },
      "execution_count": null,
      "outputs": []
    },
    {
      "cell_type": "code",
      "source": [
        "batch = train_generator.next()\n",
        "type(batch[0]), batch[0].shape"
      ],
      "metadata": {
        "id": "2j4zY9tf2Iyh"
      },
      "execution_count": null,
      "outputs": []
    },
    {
      "cell_type": "markdown",
      "source": [
        "## Model Define"
      ],
      "metadata": {
        "id": "brAe0ofgsP1R"
      }
    },
    {
      "cell_type": "code",
      "source": [
        "class BaseModel(nn.Module):\n",
        "    def __init__(self, num_classes=len(le.classes_)):\n",
        "        super(BaseModel, self).__init__()\n",
        "        self.backbone = models.efficientnet_b0(pretrained=True)\n",
        "        self.classifier = nn.Linear(1000, num_classes)\n",
        "\n",
        "    def forward(self, x):\n",
        "        x = self.backbone(x)\n",
        "        x = self.classifier(x)\n",
        "        return x"
      ],
      "metadata": {
        "id": "TBQd07hxsPo_"
      },
      "execution_count": null,
      "outputs": []
    },
    {
      "cell_type": "markdown",
      "source": [
        "---"
      ],
      "metadata": {
        "id": "X2jaWjApWl3p"
      }
    },
    {
      "cell_type": "code",
      "source": [
        "!pip install effdet timm"
      ],
      "metadata": {
        "id": "jpvj0UKywxry"
      },
      "execution_count": null,
      "outputs": []
    },
    {
      "cell_type": "code",
      "source": [
        "from effdet import create_model\n",
        "import timm\n",
        "from effdet import DetBenchTrain, EfficientDet, get_efficientdet_config\n",
        "\n",
        "class EfficientDetModel(nn.Module):\n",
        "    def __init__(self, num_classes):\n",
        "        super(EfficientDetModel, self).__init__()\n",
        "\n",
        "        # EfficientDet 모델 구성 설정 가져오기\n",
        "        backbone_name = 'tf_efficientnet_b0'\n",
        "        config = get_efficientdet_config(backbone_name)\n",
        "        config.num_classes = num_classes\n",
        "        config.image_size = (512, 512)\n",
        "        self.backbone = EfficientDet(config)\n",
        "\n",
        "        # 객체 감지를 위한 DetBenchTrain 레이어 추가\n",
        "        self.detection_layer = DetBenchTrain(\n",
        "            num_classes=config.num_classes,\n",
        "            num_anchors=config.num_anchors,\n",
        "            backbone=self.backbone.backbone,\n",
        "            bench_task='train')\n",
        "\n",
        "    def forward(self, x):\n",
        "        # EfficientDet 백본과 객체 감지 레이어 통과\n",
        "        x = self.backbone(x)\n",
        "        x = self.detection_layer(x)\n",
        "        return x\n"
      ],
      "metadata": {
        "id": "2vUa6ic1xtZG"
      },
      "execution_count": null,
      "outputs": []
    },
    {
      "cell_type": "markdown",
      "source": [
        "## Train"
      ],
      "metadata": {
        "id": "PO2t2B4CsWfL"
      }
    },
    {
      "cell_type": "code",
      "source": [
        "def train(model, optimizer, train_loader, val_loader, scheduler, device):\n",
        "    model.to(device)\n",
        "    criterion = nn.CrossEntropyLoss().to(device)\n",
        "\n",
        "    best_score = 0\n",
        "    best_model = None\n",
        "\n",
        "    for epoch in range(1, CFG['EPOCHS']+1):\n",
        "        model.train()\n",
        "        train_loss = []\n",
        "        for imgs, labels in tqdm(iter(train_loader)):\n",
        "            imgs = imgs.float().to(device)\n",
        "            labels = labels.type(torch.LongTensor).to(device)      # ADDED .type(torch.LongTensor)\n",
        "\n",
        "            optimizer.zero_grad()\n",
        "\n",
        "            output = model(imgs)\n",
        "            loss = criterion(output, labels)\n",
        "\n",
        "            loss.backward()\n",
        "            optimizer.step()\n",
        "\n",
        "            train_loss.append(loss.item())\n",
        "\n",
        "        _val_loss, _val_score = validation(model, criterion, val_loader, device)\n",
        "        _train_loss = np.mean(train_loss)\n",
        "        print(f'Epoch [{epoch}], Train Loss : [{_train_loss:.5f}] Val Loss : [{_val_loss:.5f}] Val Weighted F1 Score : [{_val_score:.5f}]')\n",
        "\n",
        "        if scheduler is not None:\n",
        "            scheduler.step(_val_score)\n",
        "\n",
        "        if best_score < _val_score:\n",
        "            best_score = _val_score\n",
        "            best_model = model\n",
        "\n",
        "    return best_model"
      ],
      "metadata": {
        "id": "tpXMpHopsULk"
      },
      "execution_count": null,
      "outputs": []
    },
    {
      "cell_type": "code",
      "source": [
        "def validation(model, criterion, val_loader, device):\n",
        "    model.eval()\n",
        "    val_loss = []\n",
        "    preds, true_labels = [], []\n",
        "\n",
        "    with torch.no_grad():\n",
        "        for imgs, labels in tqdm(iter(val_loader)):\n",
        "            imgs = imgs.float().to(device)\n",
        "            labels = labels.type(torch.LongTensor).to(device)      # ADDED .type(torch.LongTensor)\n",
        "\n",
        "            pred = model(imgs)\n",
        "\n",
        "            loss = criterion(pred, labels)\n",
        "\n",
        "            preds += pred.argmax(1).detach().cpu().numpy().tolist()\n",
        "            true_labels += labels.detach().cpu().numpy().tolist()\n",
        "\n",
        "            val_loss.append(loss.item())\n",
        "\n",
        "        _val_loss = np.mean(val_loss)\n",
        "        _val_score = f1_score(true_labels, preds, average='weighted')\n",
        "\n",
        "    return _val_loss, _val_score"
      ],
      "metadata": {
        "id": "BvPvQx2nsVuO"
      },
      "execution_count": null,
      "outputs": []
    },
    {
      "cell_type": "code",
      "source": [
        "import torch\n",
        "\n",
        "device = torch.device('cuda' if torch.cuda.is_available() else 'cpu')"
      ],
      "metadata": {
        "id": "CjCNeMlfztkF"
      },
      "execution_count": null,
      "outputs": []
    },
    {
      "cell_type": "code",
      "source": [
        "model = BaseModel()\n",
        "model.eval()\n",
        "optimizer = torch.optim.Adam(params = model.parameters(), lr = CFG[\"LEARNING_RATE\"])\n",
        "scheduler = torch.optim.lr_scheduler.ReduceLROnPlateau(optimizer, mode='max', factor=0.5, patience=2, threshold_mode='abs', min_lr=1e-8, verbose=True)\n",
        "\n",
        "infer_model = train(model, optimizer, train_loader, val_loader, scheduler, device)"
      ],
      "metadata": {
        "id": "ACiPuvn-sZKA"
      },
      "execution_count": null,
      "outputs": []
    },
    {
      "cell_type": "markdown",
      "source": [],
      "metadata": {
        "id": "JK2jwYBV1nLI"
      }
    },
    {
      "cell_type": "markdown",
      "source": [
        "## Inference"
      ],
      "metadata": {
        "id": "1Z4bc1PXscTm"
      }
    },
    {
      "cell_type": "code",
      "source": [
        "sample = pd.read_csv('/content/drive/MyDrive/Dacon/test.csv')"
      ],
      "metadata": {
        "id": "PIoABMCAsbs_"
      },
      "execution_count": null,
      "outputs": []
    },
    {
      "cell_type": "code",
      "source": [
        "# 이미지 경로 앞부분 바꾸기\n",
        "sample['img_path'] = sample['img_path'].apply(lambda x: '/content/drive/MyDrive/Dacon' + x[1:])"
      ],
      "metadata": {
        "id": "fekBCO6wNG8S"
      },
      "execution_count": null,
      "outputs": []
    },
    {
      "cell_type": "code",
      "source": [
        "# 변경된 CSV 파일 저장하기\n",
        "sample.to_csv(\"/content/drive/MyDrive/Dacon/new_test.csv\", index=False)"
      ],
      "metadata": {
        "id": "ocg4607MJP7z"
      },
      "execution_count": null,
      "outputs": []
    },
    {
      "cell_type": "code",
      "source": [
        "test = pd.read_csv('/content/drive/MyDrive/Dacon/new_test.csv')"
      ],
      "metadata": {
        "id": "A7LbPo8jEbtk"
      },
      "execution_count": null,
      "outputs": []
    },
    {
      "cell_type": "code",
      "source": [
        "test_dataset = CustomDataset(test['img_path'].values, None, test_transform)\n",
        "test_loader = DataLoader(test_dataset, batch_size=CFG['BATCH_SIZE'], shuffle=False, num_workers=0)"
      ],
      "metadata": {
        "id": "c2EluJS-sfJo"
      },
      "execution_count": null,
      "outputs": []
    },
    {
      "cell_type": "code",
      "source": [
        "def inference(model, test_loader, device):\n",
        "    model.eval()\n",
        "    preds = []\n",
        "    with torch.no_grad():\n",
        "        for imgs in tqdm(iter(test_loader)):\n",
        "            imgs = imgs.float().to(device)\n",
        "\n",
        "            pred = model(imgs)\n",
        "\n",
        "            preds += pred.argmax(1).detach().cpu().numpy().tolist()\n",
        "\n",
        "    preds = le.inverse_transform(preds)\n",
        "    return preds"
      ],
      "metadata": {
        "id": "OT72CZWZsgJi"
      },
      "execution_count": null,
      "outputs": []
    },
    {
      "cell_type": "code",
      "source": [
        "preds = inference(infer_model, test_loader, device)"
      ],
      "metadata": {
        "id": "Fp32kyBnshbM"
      },
      "execution_count": null,
      "outputs": []
    },
    {
      "cell_type": "markdown",
      "source": [
        "## Submission"
      ],
      "metadata": {
        "id": "zv7H8BB9sivp"
      }
    },
    {
      "cell_type": "code",
      "source": [
        "submit = pd.read_csv('/content/drive/MyDrive/Dacon/sample_submission.csv')"
      ],
      "metadata": {
        "id": "BQqFakqQskGk"
      },
      "execution_count": null,
      "outputs": []
    },
    {
      "cell_type": "code",
      "source": [
        "submit['label'] = preds"
      ],
      "metadata": {
        "id": "AIxuoQgqslrD"
      },
      "execution_count": null,
      "outputs": []
    },
    {
      "cell_type": "code",
      "source": [
        "submit"
      ],
      "metadata": {
        "id": "CJcAVpo_QSSh"
      },
      "execution_count": null,
      "outputs": []
    },
    {
      "cell_type": "code",
      "source": [
        "# submit.loc[submit['label'] == '0', 'label'] = '가구수정'\n",
        "# submit.loc[submit['label'] == '1', 'label'] = '걸레받이수정'\n",
        "# submit.loc[submit['label'] == '2', 'label'] = '곰팡이'\n",
        "# submit.loc[submit['label'] == '3', 'label'] = '꼬임'\n",
        "# submit.loc[submit['label'] == '4', 'label'] = '녹오염'\n",
        "# submit.loc[submit['label'] == '5', 'label'] = '들뜸'\n",
        "# submit.loc[submit['label'] == '6', 'label'] = '면불량'\n",
        "# submit.loc[submit['label'] == '7', 'label'] = '몰딩수정'\n",
        "# submit.loc[submit['label'] == '8', 'label'] = '반점'\n",
        "# submit.loc[submit['label'] == '9', 'label'] = '석고수정'\n",
        "# submit.loc[submit['label'] == '10', 'label'] = '오염'\n",
        "# submit.loc[submit['label'] == '11', 'label'] = '오타공'\n",
        "# submit.loc[submit['label'] == '12', 'label'] = '울음'\n",
        "# submit.loc[submit['label'] == '13', 'label'] = '이음부불량'\n",
        "# submit.loc[submit['label'] == '14', 'label'] = '창틀,문틀수정'\n",
        "# submit.loc[submit['label'] == '15', 'label'] = '터짐'\n",
        "# submit.loc[submit['label'] == '16', 'label'] = '틈새과다'\n",
        "# submit.loc[submit['label'] == '17', 'label'] = '피스'\n",
        "# submit.loc[submit['label'] == '18', 'label'] = '훼손'"
      ],
      "metadata": {
        "id": "nAt-vrANsnCJ"
      },
      "execution_count": null,
      "outputs": []
    },
    {
      "cell_type": "code",
      "source": [
        "submit.to_csv('/content/drive/MyDrive/Dacon/baseline_submit.csv', index=False)"
      ],
      "metadata": {
        "id": "ha-hxDCGsorg"
      },
      "execution_count": null,
      "outputs": []
    },
    {
      "cell_type": "code",
      "source": [
        "submit['label'].value_counts(normalize=True)"
      ],
      "metadata": {
        "id": "PJQ1FpGRUQi7"
      },
      "execution_count": null,
      "outputs": []
    },
    {
      "cell_type": "code",
      "source": [
        "import matplotlib.pyplot as plt\n",
        "from matplotlib import font_manager, rc"
      ],
      "metadata": {
        "id": "RQntiqERRMaf"
      },
      "execution_count": null,
      "outputs": []
    },
    {
      "cell_type": "code",
      "source": [
        "font_path = '/content/drive/MyDrive/Dacon/NanumBarunGothic.ttf'\n",
        "fontprop = font_manager.FontProperties(fname=font_path, size=18)\n",
        "plt.rc('font', family='NanumBarunGothic')"
      ],
      "metadata": {
        "id": "YS__AnsuRbud"
      },
      "execution_count": null,
      "outputs": []
    }
  ]
}